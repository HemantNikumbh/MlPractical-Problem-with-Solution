{
 "cells": [
  {
   "cell_type": "code",
   "execution_count": 1,
   "id": "27fa8e4f",
   "metadata": {},
   "outputs": [
    {
     "name": "stdout",
     "output_type": "stream",
     "text": [
      "      antecedents    consequents  antecedent support  consequent support  \\\n",
      "0          (milk)         (beer)            1.000000            0.333333   \n",
      "1          (beer)         (milk)            0.333333            1.000000   \n",
      "2         (bread)         (cola)            0.333333            0.666667   \n",
      "3          (cola)        (bread)            0.666667            0.333333   \n",
      "4          (milk)        (bread)            1.000000            0.333333   \n",
      "5         (bread)         (milk)            0.333333            1.000000   \n",
      "6          (milk)         (cola)            1.000000            0.666667   \n",
      "7          (cola)         (milk)            0.666667            1.000000   \n",
      "8         (pepsi)         (cola)            0.333333            0.666667   \n",
      "9          (cola)        (pepsi)            0.666667            0.333333   \n",
      "10         (milk)        (pepsi)            1.000000            0.333333   \n",
      "11        (pepsi)         (milk)            0.333333            1.000000   \n",
      "12  (milk, bread)         (cola)            0.333333            0.666667   \n",
      "13   (milk, cola)        (bread)            0.666667            0.333333   \n",
      "14  (bread, cola)         (milk)            0.333333            1.000000   \n",
      "15         (milk)  (bread, cola)            1.000000            0.333333   \n",
      "16        (bread)   (milk, cola)            0.333333            0.666667   \n",
      "17         (cola)  (milk, bread)            0.666667            0.333333   \n",
      "18  (milk, pepsi)         (cola)            0.333333            0.666667   \n",
      "19   (milk, cola)        (pepsi)            0.666667            0.333333   \n",
      "20  (cola, pepsi)         (milk)            0.333333            1.000000   \n",
      "21         (milk)  (cola, pepsi)            1.000000            0.333333   \n",
      "22        (pepsi)   (milk, cola)            0.333333            0.666667   \n",
      "23         (cola)  (milk, pepsi)            0.666667            0.333333   \n",
      "\n",
      "     support  confidence  lift  leverage  conviction  zhangs_metric  \n",
      "0   0.333333    0.333333   1.0  0.000000    1.000000            0.0  \n",
      "1   0.333333    1.000000   1.0  0.000000         inf            0.0  \n",
      "2   0.333333    1.000000   1.5  0.111111         inf            0.5  \n",
      "3   0.333333    0.500000   1.5  0.111111    1.333333            1.0  \n",
      "4   0.333333    0.333333   1.0  0.000000    1.000000            0.0  \n",
      "5   0.333333    1.000000   1.0  0.000000         inf            0.0  \n",
      "6   0.666667    0.666667   1.0  0.000000    1.000000            0.0  \n",
      "7   0.666667    1.000000   1.0  0.000000         inf            0.0  \n",
      "8   0.333333    1.000000   1.5  0.111111         inf            0.5  \n",
      "9   0.333333    0.500000   1.5  0.111111    1.333333            1.0  \n",
      "10  0.333333    0.333333   1.0  0.000000    1.000000            0.0  \n",
      "11  0.333333    1.000000   1.0  0.000000         inf            0.0  \n",
      "12  0.333333    1.000000   1.5  0.111111         inf            0.5  \n",
      "13  0.333333    0.500000   1.5  0.111111    1.333333            1.0  \n",
      "14  0.333333    1.000000   1.0  0.000000         inf            0.0  \n",
      "15  0.333333    0.333333   1.0  0.000000    1.000000            0.0  \n",
      "16  0.333333    1.000000   1.5  0.111111         inf            0.5  \n",
      "17  0.333333    0.500000   1.5  0.111111    1.333333            1.0  \n",
      "18  0.333333    1.000000   1.5  0.111111         inf            0.5  \n",
      "19  0.333333    0.500000   1.5  0.111111    1.333333            1.0  \n",
      "20  0.333333    1.000000   1.0  0.000000         inf            0.0  \n",
      "21  0.333333    0.333333   1.0  0.000000    1.000000            0.0  \n",
      "22  0.333333    1.000000   1.5  0.111111         inf            0.5  \n",
      "23  0.333333    0.500000   1.5  0.111111    1.333333            1.0  \n"
     ]
    },
    {
     "name": "stderr",
     "output_type": "stream",
     "text": [
      "C:\\Users\\heman\\AppData\\Roaming\\Python\\Python310\\site-packages\\mlxtend\\frequent_patterns\\fpcommon.py:110: DeprecationWarning: DataFrames with non-bool types result in worse computationalperformance and their support might be discontinued in the future.Please use a DataFrame with bool type\n",
      "  warnings.warn(\n"
     ]
    }
   ],
   "source": [
    "import pandas as pd\n",
    "from mlxtend.frequent_patterns import apriori,association_rules\n",
    "\n",
    "data = {\n",
    "    'TractionID':[1,2,3],\n",
    "    'item':[['bread','milk','cola'],\n",
    "           ['beer','milk'],\n",
    "           ['milk','cola','pepsi']]\n",
    "}\n",
    "\n",
    "df = pd.DataFrame(data)\n",
    "df=df.explode('item')\n",
    "df_onehot = pd.get_dummies(df['item']).groupby(df['TractionID']).sum()\n",
    "\n",
    "frequent_itemset = apriori(df_onehot,min_support=0.25,use_colnames=True)\n",
    "rules = association_rules(frequent_itemset,metric=\"lift\",min_threshold=0.1)\n",
    "\n",
    "print(rules)\n"
   ]
  },
  {
   "cell_type": "code",
   "execution_count": null,
   "id": "e329f176",
   "metadata": {},
   "outputs": [],
   "source": []
  }
 ],
 "metadata": {
  "kernelspec": {
   "display_name": "Python 3 (ipykernel)",
   "language": "python",
   "name": "python3"
  },
  "language_info": {
   "codemirror_mode": {
    "name": "ipython",
    "version": 3
   },
   "file_extension": ".py",
   "mimetype": "text/x-python",
   "name": "python",
   "nbconvert_exporter": "python",
   "pygments_lexer": "ipython3",
   "version": "3.10.9"
  }
 },
 "nbformat": 4,
 "nbformat_minor": 5
}
